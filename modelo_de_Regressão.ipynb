{
  "nbformat": 4,
  "nbformat_minor": 0,
  "metadata": {
    "colab": {
      "name": "modelo de Regressão ",
      "provenance": [],
      "collapsed_sections": [],
      "authorship_tag": "ABX9TyPRh/P/x4bj0DExusbYZOt5",
      "include_colab_link": true
    },
    "kernelspec": {
      "name": "python3",
      "display_name": "Python 3"
    },
    "language_info": {
      "name": "python"
    }
  },
  "cells": [
    {
      "cell_type": "markdown",
      "metadata": {
        "id": "view-in-github",
        "colab_type": "text"
      },
      "source": [
        "<a href=\"https://colab.research.google.com/github/Jordy-Rodrigues/Modelo-de-Regress-o/blob/main/modelo_de_Regress%C3%A3o.ipynb\" target=\"_parent\"><img src=\"https://colab.research.google.com/assets/colab-badge.svg\" alt=\"Open In Colab\"/></a>"
      ]
    },
    {
      "cell_type": "markdown",
      "source": [
        "CONSTRUINDO UM EXEMPLO UTILIZANDO REGRESSÃO LINEAR E REGRESSÃO LOGÍSTICA"
      ],
      "metadata": {
        "id": "aV2p9RlTEfPc"
      }
    },
    {
      "cell_type": "code",
      "source": [
        "# IMPORTAR AS BIBLIOTECAS NUMPY E MATPLOTLIB\n",
        "import numpy as np\n",
        "import matplotlib.pyplot as plt\n",
        "\n",
        "# CRIAR UMA AMOSTRA ALEATÓRIA COM 40 NÚMEROS,MENOR NÚMERO 15 E O MAIOR NÚMERO 70\n",
        "np.random.seed(42) \n",
        "ages = np.random.randint( low=15, high=70, size=40)\n"
      ],
      "metadata": {
        "id": "9Oaz_Y9nn71V"
      },
      "execution_count": 1,
      "outputs": []
    },
    {
      "cell_type": "code",
      "source": [
        "# MOSTRAR OS NÚMEROS\n",
        "ages"
      ],
      "metadata": {
        "colab": {
          "base_uri": "https://localhost:8080/"
        },
        "id": "waagjdMrrDje",
        "outputId": "23d387f2-1a2c-4e28-cf4a-5af6a62b645c"
      },
      "execution_count": 2,
      "outputs": [
        {
          "output_type": "execute_result",
          "data": {
            "text/plain": [
              "array([53, 66, 43, 29, 57, 22, 35, 53, 33, 37, 25, 25, 38, 67, 50, 54, 38,\n",
              "       17, 36, 67, 16, 38, 58, 44, 52, 16, 35, 47, 26, 36, 58, 39, 63, 41,\n",
              "       56, 42, 30, 29, 61, 65])"
            ]
          },
          "metadata": {},
          "execution_count": 2
        }
      ]
    },
    {
      "cell_type": "code",
      "source": [
        "# CRIAR UMA CONDIÇÃO QUE SI O VALOR FOR A BAIXO DE 30 VAI COLOCAR 0 CASO CONTRARIO VAI COLOCAR 1\n",
        "labels= []\n",
        "for age in ages:\n",
        "    if age < 30:\n",
        "        labels.append(0)\n",
        "    else:\n",
        "        labels.append(1)"
      ],
      "metadata": {
        "id": "cgodJ4GTrz-s"
      },
      "execution_count": 3,
      "outputs": []
    },
    {
      "cell_type": "code",
      "source": [
        "# MOSTRAR EM GRÁFICO A DISTRIBUIÇÃO DOS DADOS\n",
        "plt.scatter(ages,labels, color=\"red\")\n",
        "plt.show"
      ],
      "metadata": {
        "colab": {
          "base_uri": "https://localhost:8080/",
          "height": 282
        },
        "id": "bZzvuFW691we",
        "outputId": "ae4407cf-ef96-40a9-eb77-a6417433b3ed"
      },
      "execution_count": 4,
      "outputs": [
        {
          "output_type": "execute_result",
          "data": {
            "text/plain": [
              "<function matplotlib.pyplot.show>"
            ]
          },
          "metadata": {},
          "execution_count": 4
        },
        {
          "output_type": "display_data",
          "data": {
            "text/plain": [
              "<Figure size 432x288 with 1 Axes>"
            ],
            "image/png": "[encoded data removed]"
          },
          "metadata": {
            "needs_background": "light"
          }
        }
      ]
    },
    {
      "cell_type": "code",
      "source": [
        "# DOS DADOS VOU PEGAR 4 VALORES ALEATÓRIOS E SI ELE ERA IGUAL A 1 VAI SER 0 E VICE VERSA\n",
        "# OBS: DESSA FORMA VAI MELHORAR A DISTRIBUIÇÃO DA BASE DE DADOS PARA O EXEMPLO\n",
        "for i in range(0,3):\n",
        "  r = np.random.randint(0, len(labels)-1)\n",
        "  if labels [r]== 0:\n",
        "    labels [r] = 1\n",
        "  else:\n",
        "    labels [r] = 0"
      ],
      "metadata": {
        "id": "CEJJa3059xAO"
      },
      "execution_count": 5,
      "outputs": []
    },
    {
      "cell_type": "code",
      "source": [
        "# MOSTRAR EM GRÁFICO COMO FICOU A DISTRIBUIÇÃO DOS DADOS\n",
        "plt.scatter(ages,labels, color=\"red\")\n",
        "plt.show"
      ],
      "metadata": {
        "colab": {
          "base_uri": "https://localhost:8080/",
          "height": 282
        },
        "id": "YGcQKH1UphRI",
        "outputId": "eb774e91-9f14-4538-89ef-173391f83b2f"
      },
      "execution_count": 6,
      "outputs": [
        {
          "output_type": "execute_result",
          "data": {
            "text/plain": [
              "<function matplotlib.pyplot.show>"
            ]
          },
          "metadata": {},
          "execution_count": 6
        },
        {
          "output_type": "display_data",
          "data": {
            "text/plain": [
              "<Figure size 432x288 with 1 Axes>"
            ],
            "image/png": "[encoded data removed]"
          },
          "metadata": {
            "needs_background": "light"
          }
        }
      ]
    },
    {
      "cell_type": "markdown",
      "source": [
        "PREDIÇÃO USANDO REGRESSÃO LINEAR"
      ],
      "metadata": {
        "id": "35_NvEESjhYb"
      }
    },
    {
      "cell_type": "code",
      "source": [
        "# IMPORTAR AS BIBLIOTECAS \n",
        "import numpy as np\n",
        "from sklearn.linear_model import LinearRegression\n",
        "\n",
        "# CHAMAR A INTELIGÊNCIA ARTIFICIAL E TREINAR O MODELO\n",
        "model = LinearRegression()\n",
        "model.fit(ages.reshape(-1,1), labels)\n"
      ],
      "metadata": {
        "colab": {
          "base_uri": "https://localhost:8080/"
        },
        "id": "yq6o-WxQjDWq",
        "outputId": "0960b8fb-5521-48c4-8fd1-4cdd4bac217a"
      },
      "execution_count": 7,
      "outputs": [
        {
          "output_type": "execute_result",
          "data": {
            "text/plain": [
              "LinearRegression()"
            ]
          },
          "metadata": {},
          "execution_count": 7
        }
      ]
    },
    {
      "cell_type": "code",
      "source": [
        "# y = m * x + b\n",
        "m = model.coef_[0]\n",
        "b = model.intercept_\n",
        "\n",
        "m, b"
      ],
      "metadata": {
        "id": "T8pyQQv_iJiB",
        "colab": {
          "base_uri": "https://localhost:8080/"
        },
        "outputId": "18015ea0-51fb-4dc3-9566-abed1ade7386"
      },
      "execution_count": 8,
      "outputs": [
        {
          "output_type": "execute_result",
          "data": {
            "text/plain": [
              "(0.022566752303713265, -0.2573944664850353)"
            ]
          },
          "metadata": {},
          "execution_count": 8
        }
      ]
    },
    {
      "cell_type": "code",
      "source": [
        "# DEMOSTRAÇÃO FINAL USANDO REGRESSÃO LINEAR\n",
        "limiar_idade = (0.5 - b)/ m\n",
        "print(limiar_idade)\n",
        "\n",
        "plt.plot(ages, ages * m + b, color='blue')\n",
        "plt.plot([limiar_idade, limiar_idade],[0,0.5], '--', color = 'green')\n",
        "plt.scatter(ages,labels, color=\"red\")\n",
        "plt.show"
      ],
      "metadata": {
        "colab": {
          "base_uri": "https://localhost:8080/",
          "height": 300
        },
        "id": "qZ9IMaNDx7Kb",
        "outputId": "b1dde9f7-ba21-4219-bac5-143367026d6b"
      },
      "execution_count": 9,
      "outputs": [
        {
          "output_type": "stream",
          "name": "stdout",
          "text": [
            "33.56240438551759\n"
          ]
        },
        {
          "output_type": "execute_result",
          "data": {
            "text/plain": [
              "<function matplotlib.pyplot.show>"
            ]
          },
          "metadata": {},
          "execution_count": 9
        },
        {
          "output_type": "display_data",
          "data": {
            "text/plain": [
              "<Figure size 432x288 with 1 Axes>"
            ],
            "image/png": "[encoded data removed]"
          },
          "metadata": {
            "needs_background": "light"
          }
        }
      ]
    },
    {
      "cell_type": "code",
      "source": [
        "# OBS: ESSA RETA AZUL REPRESENTA A MELHOR APROXIMAÇÃO DESSE CONJUNTO DE PONTOS\n",
        "# E A RETA TRACEJADA NA COR VERDE PARA VENDA DE SEGUROS POR EXEMPLO, EM QUE PESSOAS DEPOIS DE 30 ANOS ELAS TERIAM MAIS CHANCES DE ADQUIRIR UM SEGURO"
      ],
      "metadata": {
        "id": "OWT_S7lIh3DZ"
      },
      "execution_count": null,
      "outputs": []
    },
    {
      "cell_type": "markdown",
      "source": [
        "PREDIÇÃO USANDO REGRESSÃO LOGÍSTICA"
      ],
      "metadata": {
        "id": "9VmZb7LM_1vL"
      }
    },
    {
      "cell_type": "code",
      "source": [
        "# DEMOSTRAÇÃO DA FUNÇÃO LOGÍSTICA\n",
        "import math\n",
        "\n",
        "def sigmoid(x):\n",
        "    a = []\n",
        "    for item in x:\n",
        "      a.append(1/(1+math.exp(-item)))\n",
        "    return a\n",
        "\n",
        "x= np.arange(-10.,10.,0.2)\n",
        "sig= sigmoid(x)\n",
        "\n",
        "plt.plot(x,sig)\n",
        "plt.show()\n"
      ],
      "metadata": {
        "id": "bzgwUoB_6KWv",
        "colab": {
          "base_uri": "https://localhost:8080/",
          "height": 265
        },
        "outputId": "75f9b22f-345b-4a3c-f891-0bd5ed48afb6"
      },
      "execution_count": 10,
      "outputs": [
        {
          "output_type": "display_data",
          "data": {
            "text/plain": [
              "<Figure size 432x288 with 1 Axes>"
            ],
            "image/png": "[encoded data removed]"
          },
          "metadata": {
            "needs_background": "light"
          }
        }
      ]
    },
    {
      "cell_type": "markdown",
      "source": [
        "CLASSIFICADOR SIGMÓIDE"
      ],
      "metadata": {
        "id": "LyaSytQSsaS8"
      }
    },
    {
      "cell_type": "code",
      "source": [
        "# IMPORTAR A BIBLIOTECA REGRESSÃO LOGÍSTICA \n",
        "from sklearn.linear_model import LogisticRegression\n",
        "# CRIAR A INTELIGÊNCIA ARTIFICIAL E TREINAR O MODELO\n",
        "model=LogisticRegression()\n",
        "model.fit(ages.reshape(-1,1), labels)"
      ],
      "metadata": {
        "id": "X7Dp2Pu8Av4V",
        "colab": {
          "base_uri": "https://localhost:8080/"
        },
        "outputId": "7e10934a-bfd7-4887-beaf-a4ca69245ba1"
      },
      "execution_count": 11,
      "outputs": [
        {
          "output_type": "execute_result",
          "data": {
            "text/plain": [
              "LogisticRegression()"
            ]
          },
          "metadata": {},
          "execution_count": 11
        }
      ]
    },
    {
      "cell_type": "code",
      "source": [
        "# y = m * x + b\n",
        "m=model.coef_[0][0]\n",
        "b=model.intercept_[0]"
      ],
      "metadata": {
        "id": "jkf0hyGuBUJU"
      },
      "execution_count": 12,
      "outputs": []
    },
    {
      "cell_type": "code",
      "source": [
        "# GERAR UM GRÁFICO QUE VAI MELHOR SI AJUSTAR AOS DADOS USANDO A FUNÇÃO LOGÍSTICA\n",
        "x=np.arange(0,70,0.1)\n",
        "sig= sigmoid(m * x + b)\n",
        "\n",
        "liniar_idade= abs(b/m)\n",
        "print(liniar_idade)\n",
        "\n",
        "plt.scatter(ages, labels, color='red')\n",
        "plt.plot([liniar_idade, liniar_idade],[0,0.5],'--', color='green')\n",
        "plt.plot(x,sig)\n",
        "plt.show()"
      ],
      "metadata": {
        "id": "tQ7DxkxSBkwS",
        "colab": {
          "base_uri": "https://localhost:8080/",
          "height": 282
        },
        "outputId": "d3290139-02db-4205-914f-382cff22defc"
      },
      "execution_count": 13,
      "outputs": [
        {
          "output_type": "stream",
          "name": "stdout",
          "text": [
            "33.331480587172706\n"
          ]
        },
        {
          "output_type": "display_data",
          "data": {
            "text/plain": [
              "<Figure size 432x288 with 1 Axes>"
            ],
            "image/png": "[encoded data removed]"
          },
          "metadata": {
            "needs_background": "light"
          }
        }
      ]
    },
    {
      "cell_type": "code",
      "source": [
        "# OBS: COM A REGRESSÃO LOGÍSTICA OS DADOS FICARAM MAIS AJUSTADOS AO MODELO E A RETA TRACEJADA EM VERDE TERIA UM RESULTADO SEMELHANTE AO DA REGRESSÃO LINEAR"
      ],
      "metadata": {
        "id": "fmmVRhcuoHAA"
      },
      "execution_count": 14,
      "outputs": []
    }
  ]
}